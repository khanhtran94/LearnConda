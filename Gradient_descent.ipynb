{
  "nbformat": 4,
  "nbformat_minor": 0,
  "metadata": {
    "colab": {
      "name": "Gradient descent.ipynb",
      "version": "0.3.2",
      "provenance": [],
      "include_colab_link": true
    },
    "kernelspec": {
      "name": "python3",
      "display_name": "Python 3"
    },
    "accelerator": "GPU"
  },
  "cells": [
    {
      "cell_type": "markdown",
      "metadata": {
        "id": "view-in-github",
        "colab_type": "text"
      },
      "source": [
        "<a href=\"https://colab.research.google.com/github/khanhtran94/LearnConda/blob/master/Gradient_descent.ipynb\" target=\"_parent\"><img src=\"https://colab.research.google.com/assets/colab-badge.svg\" alt=\"Open In Colab\"/></a>"
      ]
    },
    {
      "metadata": {
        "id": "mUspFko77Pqg",
        "colab_type": "text"
      },
      "cell_type": "markdown",
      "source": [
        "invoking the dependencied"
      ]
    },
    {
      "metadata": {
        "id": "Ea_zawR57FQI",
        "colab_type": "code",
        "colab": {}
      },
      "cell_type": "code",
      "source": [
        "import numpy as np\n",
        "import tensorflow as tf\n",
        "import matplotlib.pyplot as plt"
      ],
      "execution_count": 0,
      "outputs": []
    },
    {
      "metadata": {
        "id": "apE7xgU27fjt",
        "colab_type": "text"
      },
      "cell_type": "markdown",
      "source": [
        "define the parameters"
      ]
    },
    {
      "metadata": {
        "id": "n2kxq2Va7hpP",
        "colab_type": "code",
        "colab": {}
      },
      "cell_type": "code",
      "source": [
        "learning_parameter = 0.01\n",
        "epochs = 300"
      ],
      "execution_count": 0,
      "outputs": []
    },
    {
      "metadata": {
        "id": "1LlgYPtx85EZ",
        "colab_type": "text"
      },
      "cell_type": "markdown",
      "source": [
        "creating the dataset of linear regression\n",
        "here the line is y = Ax"
      ]
    },
    {
      "metadata": {
        "id": "Sht0yVSE9CFN",
        "colab_type": "code",
        "colab": {}
      },
      "cell_type": "code",
      "source": [
        "sample_points = 50\n",
        "\n",
        "x_train = np.linspace(0,30,sample_points)\n",
        "y_train = 6 * x_train + 7*np.random.randn(sample_points)"
      ],
      "execution_count": 0,
      "outputs": []
    },
    {
      "metadata": {
        "id": "WX0FSDlz9Sig",
        "colab_type": "text"
      },
      "cell_type": "markdown",
      "source": [
        "plot the dataset"
      ]
    },
    {
      "metadata": {
        "id": "K-UKNPNb9Q1a",
        "colab_type": "code",
        "colab": {}
      },
      "cell_type": "code",
      "source": [
        "#noisy dataset\n",
        "plt.plot(x_train, y_train, 'o')\n",
        "#noisy free dataset\n",
        "plt.plot(x_train, 6*x_train)\n",
        "plt.show()"
      ],
      "execution_count": 0,
      "outputs": []
    },
    {
      "metadata": {
        "id": "R_wa_k1R_ZTI",
        "colab_type": "code",
        "colab": {}
      },
      "cell_type": "code",
      "source": [
        "# define the tensorflow definations\n",
        "\n",
        "Y = tf.placeholder(tf.float32)\n",
        "X = tf.placeholder(tf.float32)\n",
        "\n",
        "W = tf.Variable(np.random.randn(), name = 'weights')\n",
        "B = tf.Variable(np.random.randn(), name = 'bias')\n",
        "\n",
        "# create the model for regression\n",
        "\n",
        "prediction = W*X + B\n",
        "\n",
        "# cost function\n",
        "cost_iteration = tf.reduce_sum((prediction - Y)**2)/(2*sample_points)\n",
        "\n",
        "#define the optimizer\n",
        "optimized = tf.train.GradientDescentOptimizer(learning_parameter).minimize(cost_iteration)\n",
        "\n",
        "#initialize the variables\n",
        "init = tf.global_variables_initializer()"
      ],
      "execution_count": 0,
      "outputs": []
    },
    {
      "metadata": {
        "id": "1vmJ4pdTAqQe",
        "colab_type": "code",
        "outputId": "2fba680a-47d0-49b7-a132-6fcd38beb7ff",
        "colab": {
          "base_uri": "https://localhost:8080/",
          "height": 483
        }
      },
      "cell_type": "code",
      "source": [
        "#Define the tensorflow session\n",
        "\n",
        "with tf.Session() as sess:\n",
        "  sess.run(init)\n",
        "  for epoch in range(epochs):\n",
        "    for x, y in zip(x_train, y_train):\n",
        "      sess.run(optimized, feed_dict = {X: x, Y: y})\n",
        "    if not epoch%40:\n",
        "      W1 = sess.run(W)\n",
        "      B1 = sess.run(B)\n",
        "      cost_iter = sess.run(cost_iteration, feed_dict = {X: x, Y: y})\n",
        "      print('Epochs %f cost %f Weight %f Bias %f' %(epoch, cost_iter, W1, B1))\n",
        "  \n",
        "  Weight = sess.run(W)\n",
        "  Bias = sess.run(B)\n",
        "  \n",
        "  plt.plot(x_train, y_train, 'o')\n",
        "  plt.plot(x_train, Weight*x_train+Bias)\n",
        "  plt.show()"
      ],
      "execution_count": 0,
      "outputs": [
        {
          "output_type": "stream",
          "text": [
            "Epochs 0.000000 cost 1.510353 Weight 5.752053 Bias -1.052598\n",
            "Epochs 40.000000 cost 0.231625 Weight 5.996341 Bias -0.904327\n",
            "Epochs 80.000000 cost 0.233394 Weight 5.991755 Bias -0.785118\n",
            "Epochs 120.000000 cost 0.235002 Weight 5.987604 Bias -0.677170\n",
            "Epochs 160.000000 cost 0.236460 Weight 5.983845 Bias -0.579422\n",
            "Epochs 200.000000 cost 0.237786 Weight 5.980441 Bias -0.490908\n",
            "Epochs 240.000000 cost 0.238990 Weight 5.977358 Bias -0.410754\n",
            "Epochs 280.000000 cost 0.240083 Weight 5.974566 Bias -0.338174\n"
          ],
          "name": "stdout"
        },
        {
          "output_type": "display_data",
          "data": {
            "image/png": "[encoded data removed]",
            "text/plain": [
              "<Figure size 576x396 with 1 Axes>"
            ]
          },
          "metadata": {
            "tags": []
          }
        }
      ]
    },
    {
      "metadata": {
        "id": "22NcGqUWJBc7",
        "colab_type": "code",
        "outputId": "87e8b352-4866-4aff-d915-31b504e76e70",
        "colab": {
          "base_uri": "https://localhost:8080/",
          "height": 156
        }
      },
      "cell_type": "code",
      "source": [
        "Y = tf.placeholder(tf.float32)\n",
        "X = tf.placeholder(tf.float32)\n",
        "\n",
        "W = tf.Variable(np.random.randn(), name = 'weights')\n",
        "B = tf.Variable(np.random.randn(), name = 'bias')\n",
        "\n",
        "# create the model for regression \n",
        "with tf.name_scope(\"Model\") as scope:\n",
        "  prediction = W*X + B\n",
        "\n",
        "# add summary to study behaviour of weitghts and biases with epoch\n",
        "\n",
        "weight_histogram = tf.summary.histogram(\"Weights\", W)\n",
        "bias_histogram = tf.summary.histogram(\"Bias\", B)\n",
        "\n",
        "#cost function\n",
        "with tf.name_scope(\"Cost_function\") as scope:\n",
        "  cost_iteration = tf.reduce_sum((prediction-Y)**2)/(2*sample_points)\n",
        "\n",
        "#record the scalar summary of the cost function\n",
        "\n",
        "cost_summary = tf.summary.scalar(\"Cost\", cost_iteration)\n",
        "\n",
        "#define the optimizer\n",
        "with tf.name_scope(\"Training\") as scope:\n",
        "  optimizer = tf.train.GradientDescentOptimizer(learning_parameter).minimize(cost_iteration)\n",
        "  \n",
        "#initialize the variables\n",
        "init = tf.global_variables_initializer()\n",
        "\n",
        "#merge all the summaries into a single operator, graph create\n",
        "merged_summary = tf.summary.merge_all()\n",
        "\n",
        "print(merged_summary)"
      ],
      "execution_count": 5,
      "outputs": [
        {
          "output_type": "stream",
          "text": [
            "WARNING:tensorflow:From /usr/local/lib/python3.6/dist-packages/tensorflow/python/framework/op_def_library.py:263: colocate_with (from tensorflow.python.framework.ops) is deprecated and will be removed in a future version.\n",
            "Instructions for updating:\n",
            "Colocations handled automatically by placer.\n",
            "WARNING:tensorflow:From /usr/local/lib/python3.6/dist-packages/tensorflow/python/ops/math_ops.py:3066: to_int32 (from tensorflow.python.ops.math_ops) is deprecated and will be removed in a future version.\n",
            "Instructions for updating:\n",
            "Use tf.cast instead.\n",
            "Tensor(\"Merge/MergeSummary:0\", shape=(), dtype=string)\n"
          ],
          "name": "stdout"
        }
      ]
    },
    {
      "metadata": {
        "id": "MZL20O93RrvY",
        "colab_type": "code",
        "outputId": "027dfe87-a3f6-421d-d7b4-f6cb7c2a741b",
        "colab": {
          "base_uri": "https://localhost:8080/",
          "height": 85
        }
      },
      "cell_type": "code",
      "source": [
        "print(X)\n",
        "print(Y)\n",
        "print(W)\n",
        "print(B)"
      ],
      "execution_count": 0,
      "outputs": [
        {
          "output_type": "stream",
          "text": [
            "Tensor(\"Placeholder_15:0\", dtype=float32)\n",
            "Tensor(\"Placeholder_14:0\", dtype=float32)\n",
            "<tf.Variable 'weights_12:0' shape=() dtype=float32_ref>\n",
            "<tf.Variable 'bias_12:0' shape=() dtype=float32_ref>\n"
          ],
          "name": "stdout"
        }
      ]
    },
    {
      "metadata": {
        "id": "T-BcmjynNeOs",
        "colab_type": "code",
        "outputId": "e5038514-9d2b-4573-84b4-946ff66baaff",
        "colab": {
          "base_uri": "https://localhost:8080/",
          "height": 483
        }
      },
      "cell_type": "code",
      "source": [
        "#define the tensorflow session\n",
        "\n",
        "with tf.Session() as sess:\n",
        "  sess.run(init)\n",
        "  writer = tf.summary.FileWriter('./log', sess.graph)\n",
        "  \n",
        "  for epoch in range(epochs):\n",
        "    for x,y in zip(x_train, y_train):\n",
        "      sess.run(optimizer, feed_dict = {X: x, Y: y})\n",
        "      \n",
        "      #writer logs for each epochs\n",
        "      summary_epochs = sess.run(merged_summary, feed_dict = {X: x, Y: y})\n",
        "      writer.add_summary(summary_epochs, epoch)\n",
        "      \n",
        "    if not epoch%40:\n",
        "      W1 = sess.run(W)\n",
        "      B1 = sess.run(B)\n",
        "      cost_iter = sess.run(cost_iteration, feed_dict = {X: x, Y: y})\n",
        "      print('Epochs %f cost %f Weight %f Bias %f' %(epoch, cost_iter, W1, B1))\n",
        "      \n",
        "  Weight = sess.run(W)\n",
        "  Bias = sess.run(B)\n",
        "  \n",
        "  plt.plot(x_train, y_train, 'o')\n",
        "  plt.plot(x_train, Weight*x_train+Bias)\n",
        "  plt.show()"
      ],
      "execution_count": 6,
      "outputs": [
        {
          "output_type": "stream",
          "text": [
            "Epochs 0.000000 cost 0.009146 Weight 5.771923 Bias 1.856712\n",
            "Epochs 40.000000 cost 0.416929 Weight 6.030869 Bias 1.501663\n",
            "Epochs 80.000000 cost 0.423633 Weight 6.043802 Bias 1.165391\n",
            "Epochs 120.000000 cost 0.429749 Weight 6.055513 Bias 0.860887\n",
            "Epochs 160.000000 cost 0.435327 Weight 6.066118 Bias 0.585148\n",
            "Epochs 200.000000 cost 0.440410 Weight 6.075721 Bias 0.335458\n",
            "Epochs 240.000000 cost 0.445033 Weight 6.084416 Bias 0.109358\n",
            "Epochs 280.000000 cost 0.449243 Weight 6.092290 Bias -0.095382\n"
          ],
          "name": "stdout"
        },
        {
          "output_type": "display_data",
          "data": {
            "image/png": "[encoded data removed]",
            "text/plain": [
              "<Figure size 576x396 with 1 Axes>"
            ]
          },
          "metadata": {
            "tags": []
          }
        }
      ]
    }
  ]
}