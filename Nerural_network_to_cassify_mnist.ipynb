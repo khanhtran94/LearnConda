{
  "nbformat": 4,
  "nbformat_minor": 0,
  "metadata": {
    "colab": {
      "name": "Nerural network to cassify mnist.ipynb",
      "version": "0.3.2",
      "provenance": [],
      "include_colab_link": true
    },
    "kernelspec": {
      "name": "python3",
      "display_name": "Python 3"
    },
    "accelerator": "GPU"
  },
  "cells": [
    {
      "cell_type": "markdown",
      "metadata": {
        "id": "view-in-github",
        "colab_type": "text"
      },
      "source": [
        "<a href=\"https://colab.research.google.com/github/khanhtran94/LearnConda/blob/master/Nerural_network_to_cassify_mnist.ipynb\" target=\"_parent\"><img src=\"https://colab.research.google.com/assets/colab-badge.svg\" alt=\"Open In Colab\"/></a>"
      ]
    },
    {
      "metadata": {
        "id": "WzdOIbDNbjJX",
        "colab_type": "code",
        "colab": {}
      },
      "cell_type": "code",
      "source": [
        "#import the dependencies\n",
        "import cv2\n",
        "import matplotlib.pyplot as plt\n",
        "import numpy as np\n",
        "import tensorflow as tf\n"
      ],
      "execution_count": 0,
      "outputs": []
    },
    {
      "metadata": {
        "id": "10f3xfj4cApb",
        "colab_type": "code",
        "colab": {}
      },
      "cell_type": "code",
      "source": [
        "from tensorflow.examples.tutorials.mnist import input_data\n",
        "mnist_data = input_data.read_data_sets(\"./data\", one_hot = True)"
      ],
      "execution_count": 0,
      "outputs": []
    },
    {
      "metadata": {
        "id": "oBNG8gJIcmJW",
        "colab_type": "code",
        "outputId": "0ff36804-d127-427f-e843-de845008ded1",
        "colab": {
          "base_uri": "https://localhost:8080/",
          "height": 34
        }
      },
      "cell_type": "code",
      "source": [
        "num_training = mnist_data.train.num_examples\n",
        "num_testing = mnist_data.test.num_examples\n",
        "num_validation = mnist_data.validation.num_examples\n",
        "print(\"MNIST datasize: Traninning samples: {0}, Testing samples: {1}, Validation sample: {2}\".format(num_training,num_testing,num_validation))"
      ],
      "execution_count": 0,
      "outputs": [
        {
          "output_type": "stream",
          "text": [
            "MNIST datasize: Traninning samples: 55000, Testing samples: 10000, Validation sample: 5000\n"
          ],
          "name": "stdout"
        }
      ]
    },
    {
      "metadata": {
        "id": "v5xD9sejd0dG",
        "colab_type": "code",
        "colab": {}
      },
      "cell_type": "code",
      "source": [
        "# network parameter of neural network\n",
        "n_input = 784 # input image of size 28 x 28\n",
        "n_hidden_1 = 512 # first hidden layer\n",
        "n_hidden_2 = 256 # second hidden layer\n",
        "n_hidden_3 = 128 # third hidden layer\n",
        "n_output = 10 # output layer having ( 0 - 9 ) digits"
      ],
      "execution_count": 0,
      "outputs": []
    },
    {
      "metadata": {
        "id": "Kn69i0TKeuvK",
        "colab_type": "code",
        "colab": {}
      },
      "cell_type": "code",
      "source": [
        "# hyperparameterc for nn\n",
        "learning_rate = 1e-4\n",
        "epochs = 3000\n",
        "batch_size = 128\n",
        "keep_prob = tf.placeholder(tf.float32)"
      ],
      "execution_count": 0,
      "outputs": []
    },
    {
      "metadata": {
        "id": "lizx5olJfLgy",
        "colab_type": "code",
        "outputId": "0b3ec04d-5f75-4d6a-8286-259c7856f5d4",
        "colab": {
          "base_uri": "https://localhost:8080/",
          "height": 88
        }
      },
      "cell_type": "code",
      "source": [
        "# building tensorflow graph\n",
        "X = tf.placeholder(tf.float32, [None, n_input])\n",
        "Y = tf.placeholder(tf.float32, [None, n_output])\n",
        "\n",
        "# wight defination\n",
        "\n",
        "nn_weight = {\"W1\": tf.Variable(tf.truncated_normal([n_input, n_hidden_1], stddev = 0.1)),\n",
        "             \"W2\": tf.Variable(tf.truncated_normal([n_hidden_1, n_hidden_2], stddev = 0.1)),\n",
        "             \"W3\": tf.Variable(tf.truncated_normal([n_hidden_2, n_hidden_3], stddev = 0.1)),\n",
        "             \"Wout\": tf.Variable(tf.truncated_normal([n_hidden_3, n_output], stddev = 0.1))\n",
        "            }"
      ],
      "execution_count": 0,
      "outputs": [
        {
          "output_type": "stream",
          "text": [
            "WARNING:tensorflow:From /usr/local/lib/python3.6/dist-packages/tensorflow/python/framework/op_def_library.py:263: colocate_with (from tensorflow.python.framework.ops) is deprecated and will be removed in a future version.\n",
            "Instructions for updating:\n",
            "Colocations handled automatically by placer.\n"
          ],
          "name": "stdout"
        }
      ]
    },
    {
      "metadata": {
        "id": "lkP6xpmEgOae",
        "colab_type": "text"
      },
      "cell_type": "markdown",
      "source": [
        "đây là nơi cấu hình mạng, w1 nhận đầu vào là input,  output là lớp hidden_1, và output của w1, là đầu vào của W2,  ở đây nn của mình có 1 lớp input, 3 lớp ẩn, 1 lớp outout, là Wout, \n",
        "\n",
        "chưa hiểu thông số stddev = 0.1 laf ji?\n",
        "\n",
        "\n",
        "truncated_normal\n"
      ]
    },
    {
      "metadata": {
        "id": "5gqrpXGZgntL",
        "colab_type": "code",
        "colab": {}
      },
      "cell_type": "code",
      "source": [
        "nn_bias = {\"B1\": tf.Variable(tf.truncated_normal([n_hidden_1])),\n",
        "           \"B2\": tf.Variable(tf.truncated_normal([n_hidden_2])),\n",
        "           \"B3\": tf.Variable(tf.truncated_normal([n_hidden_3])),\n",
        "           \"B4\": tf.Variable(tf.truncated_normal([n_output])),        \n",
        "          }"
      ],
      "execution_count": 0,
      "outputs": []
    },
    {
      "metadata": {
        "id": "gaSuQCechFcg",
        "colab_type": "code",
        "colab": {}
      },
      "cell_type": "code",
      "source": [
        "#create a nn model\n",
        "\n",
        "nn_layer_1 = tf.add(tf.matmul(X, nn_weight[\"W1\"]), nn_bias[\"B1\"])\n",
        "nn_layer_2 = tf.add(tf.matmul(nn_layer_1, nn_weight[\"W2\"]), nn_bias[\"B2\"])\n",
        "nn_layer_3 = tf.add(tf.matmul(nn_layer_2, nn_weight[\"W3\"]), nn_bias[\"B3\"])\n",
        "\n",
        "layer_drop = tf.nn.dropout(nn_layer_3, keep_prob)\n",
        "output_layer = tf.add(tf.matmul(layer_drop, nn_weight[\"Wout\"]), nn_bias[\"B4\"])"
      ],
      "execution_count": 0,
      "outputs": []
    },
    {
      "metadata": {
        "id": "1ftiiofphnFR",
        "colab_type": "code",
        "colab": {}
      },
      "cell_type": "code",
      "source": [
        "# define the loss\n",
        "computer_loss = tf.reduce_mean(tf.nn.softmax_cross_entropy_with_logits_v2(logits = output_layer, labels = Y))\n",
        "\n",
        "#define the optimizer\n",
        "optimizer = tf.train.GradientDescentOptimizer(learning_rate = learning_rate).minimize(computer_loss)\n",
        "\n",
        "#define prediction\n",
        "prediction_out = tf.equal(tf.argmax(output_layer,1), tf.argmax(Y,1))\n",
        "\n",
        "#define accuracy of the model\n",
        "nn_accuracy = tf.reduce_mean(tf.cast(prediction_out, tf.float32))\n",
        "\n",
        "# intialize all the variables\n",
        "init = tf.global_variables_initializer()\n",
        "\n",
        "saver = tf.train.Saver()"
      ],
      "execution_count": 0,
      "outputs": []
    },
    {
      "metadata": {
        "id": "b6Dau_c1iuS3",
        "colab_type": "code",
        "outputId": "a48a2cf4-d6b4-4a9a-b606-25f8df3c15ef",
        "colab": {
          "base_uri": "https://localhost:8080/",
          "height": 561
        }
      },
      "cell_type": "code",
      "source": [
        "# executing the computational graph\n",
        "with tf.Session() as sess:\n",
        "  sess.run(init)\n",
        "  \n",
        "  for i in range(epochs):\n",
        "    mini_batch_x, mini_batch_y = mnist_data.train.next_batch(batch_size)\n",
        "    #print(mini_batch_x[0:1,:].shape)\n",
        "    mini_batch_val_x, mini_batch_val_y = mnist_data.validation.next_batch(batch_size)\n",
        "    \n",
        "    sess.run(optimizer, feed_dict = {X: mini_batch_x, Y:mini_batch_y, keep_prob:1})\n",
        "    \n",
        "    if i%100 == 0:\n",
        "      mini_batch_loss, mini_batch_accuracy = sess.run([computer_loss, nn_accuracy], feed_dict = {X: mini_batch_x, Y: mini_batch_y, keep_prob:1})\n",
        "      mini_batch_val_loss, mini_batch_val_accuracy = sess.run([computer_loss, nn_accuracy], feed_dict = {X: mini_batch_val_x, Y: mini_batch_val_y, keep_prob:1})\n",
        "      \n",
        "      print(\"Iterations: {0}, Train_loss = {1}, Train_accuracy: {2}, val_accuracy {4}\".format(i,mini_batch_loss,mini_batch_accuracy,mini_batch_val_loss,mini_batch_val_accuracy))\n",
        "      \n",
        "  print(\"Optimization finished\")\n",
        "  test_accuracy = sess.run(nn_accuracy, feed_dict = {X: mnist_data.test.images, Y: mnist_data.test.labels, keep_prob:1})\n",
        "  print(\"Testing accuracy is {0}\".format(test_accuracy))\n",
        "    \n",
        "  save_path = saver.save(sess, \"./model/my_model1.ckpt\")"
      ],
      "execution_count": 38,
      "outputs": [
        {
          "output_type": "stream",
          "text": [
            "Iterations: 0, Train_loss = 8.13443660736084, Train_accuracy: 0.0546875, val_accuracy 0.078125\n",
            "Iterations: 100, Train_loss = 3.43949556350708, Train_accuracy: 0.1484375, val_accuracy 0.1328125\n",
            "Iterations: 200, Train_loss = 2.632503032684326, Train_accuracy: 0.1875, val_accuracy 0.2109375\n",
            "Iterations: 300, Train_loss = 2.441614866256714, Train_accuracy: 0.234375, val_accuracy 0.2421875\n",
            "Iterations: 400, Train_loss = 1.9242669343948364, Train_accuracy: 0.3828125, val_accuracy 0.2578125\n",
            "Iterations: 500, Train_loss = 1.9086661338806152, Train_accuracy: 0.359375, val_accuracy 0.359375\n",
            "Iterations: 600, Train_loss = 1.7892757654190063, Train_accuracy: 0.3984375, val_accuracy 0.390625\n",
            "Iterations: 700, Train_loss = 1.5681090354919434, Train_accuracy: 0.46875, val_accuracy 0.4140625\n",
            "Iterations: 800, Train_loss = 1.7493596076965332, Train_accuracy: 0.4375, val_accuracy 0.484375\n",
            "Iterations: 900, Train_loss = 1.4515600204467773, Train_accuracy: 0.4765625, val_accuracy 0.5625\n",
            "Iterations: 1000, Train_loss = 1.5475990772247314, Train_accuracy: 0.4765625, val_accuracy 0.5390625\n",
            "Iterations: 1100, Train_loss = 1.4172159433364868, Train_accuracy: 0.53125, val_accuracy 0.53125\n",
            "Iterations: 1200, Train_loss = 1.3784797191619873, Train_accuracy: 0.5546875, val_accuracy 0.53125\n",
            "Iterations: 1300, Train_loss = 1.179666519165039, Train_accuracy: 0.6015625, val_accuracy 0.6328125\n",
            "Iterations: 1400, Train_loss = 1.2803030014038086, Train_accuracy: 0.578125, val_accuracy 0.640625\n",
            "Iterations: 1500, Train_loss = 1.227513074874878, Train_accuracy: 0.5859375, val_accuracy 0.5390625\n",
            "Iterations: 1600, Train_loss = 1.1507340669631958, Train_accuracy: 0.65625, val_accuracy 0.6796875\n",
            "Iterations: 1700, Train_loss = 1.253492832183838, Train_accuracy: 0.59375, val_accuracy 0.6875\n",
            "Iterations: 1800, Train_loss = 1.2404640913009644, Train_accuracy: 0.6015625, val_accuracy 0.7265625\n",
            "Iterations: 1900, Train_loss = 1.0406209230422974, Train_accuracy: 0.6640625, val_accuracy 0.6484375\n",
            "Iterations: 2000, Train_loss = 1.151050090789795, Train_accuracy: 0.671875, val_accuracy 0.640625\n",
            "Iterations: 2100, Train_loss = 0.9801046848297119, Train_accuracy: 0.7109375, val_accuracy 0.671875\n",
            "Iterations: 2200, Train_loss = 1.0620629787445068, Train_accuracy: 0.6171875, val_accuracy 0.625\n",
            "Iterations: 2300, Train_loss = 0.8453591465950012, Train_accuracy: 0.7265625, val_accuracy 0.6953125\n",
            "Iterations: 2400, Train_loss = 0.8299121856689453, Train_accuracy: 0.734375, val_accuracy 0.6953125\n",
            "Iterations: 2500, Train_loss = 0.9418975114822388, Train_accuracy: 0.671875, val_accuracy 0.6875\n",
            "Iterations: 2600, Train_loss = 0.8540069460868835, Train_accuracy: 0.734375, val_accuracy 0.703125\n",
            "Iterations: 2700, Train_loss = 0.8961130380630493, Train_accuracy: 0.6796875, val_accuracy 0.7421875\n",
            "Iterations: 2800, Train_loss = 0.902889609336853, Train_accuracy: 0.734375, val_accuracy 0.75\n",
            "Iterations: 2900, Train_loss = 1.0102181434631348, Train_accuracy: 0.6953125, val_accuracy 0.71875\n",
            "Optimization finished\n",
            "Testing accuracy is 0.7422999739646912\n"
          ],
          "name": "stdout"
        }
      ]
    },
    {
      "metadata": {
        "id": "_4odOQrfldq8",
        "colab_type": "code",
        "outputId": "2a3e27fa-79f7-48ec-931b-81668f8af026",
        "colab": {
          "base_uri": "https://localhost:8080/",
          "height": 381
        }
      },
      "cell_type": "code",
      "source": [
        "#upload the test image from outside\n",
        "\n",
        "img = cv2.imread(\"77.jpg\")\n",
        "gray_image = cv2.cvtColor(img, cv2.COLOR_BGR2GRAY)\n",
        "\n",
        "rescaled_image = cv2.resize(gray_image, (28,28))\n",
        "\n",
        "plt.imshow(rescaled_image, cmap = 'gray')\n",
        "plt.show()\n",
        "rescaled_image.shape\n",
        "\n",
        "#test_image = rescaled_image.flatten()\n",
        "\n",
        "dum = rescaled_image.reshape(1,-1)/255\n",
        "dum.shape\n",
        "\n",
        "with tf.Session() as sess:\n",
        "  saver.restore(sess, \"./model/my_model.ckpt\")\n",
        "  Z = output_layer.eval(feed_dict={X: dum, keep_prob:1.0})\n",
        "  y_pred = np.argmax(Z, axis = 1)\n",
        "  print(\"Prediction for test image is {0}\".format(y_pred))"
      ],
      "execution_count": 39,
      "outputs": [
        {
          "output_type": "display_data",
          "data": {
            "image/png": "[encoded data removed]",
            "text/plain": [
              "<Figure size 576x396 with 1 Axes>"
            ]
          },
          "metadata": {
            "tags": []
          }
        },
        {
          "output_type": "stream",
          "text": [
            "INFO:tensorflow:Restoring parameters from ./model/my_model.ckpt\n",
            "Prediction for test image is [7]\n"
          ],
          "name": "stdout"
        }
      ]
    }
  ]
}