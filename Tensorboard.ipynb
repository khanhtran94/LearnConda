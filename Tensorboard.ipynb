{
  "nbformat": 4,
  "nbformat_minor": 0,
  "metadata": {
    "colab": {
      "name": "Tensorboard.ipynb",
      "version": "0.3.2",
      "provenance": [],
      "include_colab_link": true
    },
    "kernelspec": {
      "name": "python3",
      "display_name": "Python 3"
    },
    "accelerator": "GPU"
  },
  "cells": [
    {
      "cell_type": "markdown",
      "metadata": {
        "id": "view-in-github",
        "colab_type": "text"
      },
      "source": [
        "<a href=\"https://colab.research.google.com/github/khanhtran94/LearnConda/blob/master/Tensorboard.ipynb\" target=\"_parent\"><img src=\"https://colab.research.google.com/assets/colab-badge.svg\" alt=\"Open In Colab\"/></a>"
      ]
    },
    {
      "metadata": {
        "id": "Xuy-3DMzFX3B",
        "colab_type": "code",
        "colab": {
          "base_uri": "https://localhost:8080/",
          "height": 34
        },
        "outputId": "d6801f65-3e57-4161-a867-f84a2e3081e8"
      },
      "cell_type": "code",
      "source": [
        "import tensorflow as tf\n",
        "\n",
        "a = tf.add(1,2)\n",
        "b = tf.multiply(a,3)\n",
        "c = tf.add(4,5)\n",
        "\n",
        "d = tf.multiply(c,5)\n",
        "e = tf.multiply(4,5)\n",
        "f = tf.div(c,5)\n",
        "\n",
        "\n",
        "g =tf.add(b,d)\n",
        "h = tf.multiply(g,f)\n",
        "\n",
        "with tf.Session() as sess:\n",
        "  writer = tf.summary.FileWriter(\"./logs\", graph = sess.graph)\n",
        "  print(sess.run(h))\n",
        "  writer.close()"
      ],
      "execution_count": 4,
      "outputs": [
        {
          "output_type": "stream",
          "text": [
            "54\n"
          ],
          "name": "stdout"
        }
      ]
    },
    {
      "metadata": {
        "id": "V2lP4CcpVFXv",
        "colab_type": "code",
        "colab": {
          "base_uri": "https://localhost:8080/",
          "height": 34
        },
        "outputId": "9b985b3f-5f0f-4be9-8df9-1f05e9dd77af"
      },
      "cell_type": "code",
      "source": [
        "a = tf.constant(1)\n",
        "b = tf.constant(2)\n",
        "c = tf.add(a,b)\n",
        "g = tf.Graph()\n",
        "with tf.Session() as sess:\n",
        "  writer = tf.summary.FileWriter(\"./graph\", g)\n",
        "  print(sess.run(c))\n",
        "  \n",
        "writer.close()"
      ],
      "execution_count": 6,
      "outputs": [
        {
          "output_type": "stream",
          "text": [
            "3\n"
          ],
          "name": "stdout"
        }
      ]
    }
  ]
}