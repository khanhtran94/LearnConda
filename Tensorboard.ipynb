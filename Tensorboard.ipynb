{
  "nbformat": 4,
  "nbformat_minor": 0,
  "metadata": {
    "colab": {
      "name": "Tensorboard.ipynb",
      "version": "0.3.2",
      "provenance": [],
      "include_colab_link": true
    },
    "kernelspec": {
      "name": "python3",
      "display_name": "Python 3"
    },
    "accelerator": "GPU"
  },
  "cells": [
    {
      "cell_type": "markdown",
      "metadata": {
        "id": "view-in-github",
        "colab_type": "text"
      },
      "source": [
        "<a href=\"https://colab.research.google.com/github/khanhtran94/LearnConda/blob/master/Tensorboard.ipynb\" target=\"_parent\"><img src=\"https://colab.research.google.com/assets/colab-badge.svg\" alt=\"Open In Colab\"/></a>"
      ]
    },
    {
      "metadata": {
        "id": "Xuy-3DMzFX3B",
        "colab_type": "code",
        "outputId": "ca19ac88-446a-497a-84fc-e0f788240230",
        "colab": {
          "base_uri": "https://localhost:8080/",
          "height": 34
        }
      },
      "cell_type": "code",
      "source": [
        "import tensorflow as tf\n",
        "\n",
        "a = tf.add(1,2)\n",
        "b = tf.multiply(a,3)\n",
        "c = tf.add(4,5)\n",
        "\n",
        "d = tf.multiply(c,5)\n",
        "e = tf.multiply(4,5)\n",
        "f = tf.div(c,5)\n",
        "\n",
        "\n",
        "g =tf.add(b,d)\n",
        "h = tf.multiply(g,f)\n",
        "\n",
        "with tf.Session() as sess:\n",
        "  writer = tf.summary.FileWriter(\"./logs\", sess.graph)\n",
        "  print(sess.run(h))\n",
        "  writer.close()"
      ],
      "execution_count": 5,
      "outputs": [
        {
          "output_type": "stream",
          "text": [
            "54\n"
          ],
          "name": "stdout"
        }
      ]
    },
    {
      "metadata": {
        "id": "V2lP4CcpVFXv",
        "colab_type": "code",
        "colab": {}
      },
      "cell_type": "code",
      "source": [
        "import tensorflow as tf\n",
        "a = tf.constant(1)\n",
        "b = tf.constant(9)\n",
        "c = tf.multiply(a,b)\n",
        "with tf.Session() as sess:\n",
        "  print(sess.run(c))\n",
        "  writer = tf.summary.FileWriter(\"./graph\", sess.graph)\n",
        "  print(sess.run(c))\n",
        "  writer.close()\n",
        "  \n"
      ],
      "execution_count": 0,
      "outputs": []
    },
    {
      "metadata": {
        "id": "_vSz7e_rUsD3",
        "colab_type": "code",
        "colab": {}
      },
      "cell_type": "code",
      "source": [
        ""
      ],
      "execution_count": 0,
      "outputs": []
    },
    {
      "metadata": {
        "id": "ckXnFZRZUsJ1",
        "colab_type": "code",
        "colab": {}
      },
      "cell_type": "code",
      "source": [
        "tf.reset_default_graph()"
      ],
      "execution_count": 0,
      "outputs": []
    },
    {
      "metadata": {
        "id": "Kq9ZEicrrqNj",
        "colab_type": "code",
        "colab": {
          "base_uri": "https://localhost:8080/",
          "height": 105
        },
        "outputId": "15bd4b1d-4834-4925-a1f5-c35b7577193f"
      },
      "cell_type": "code",
      "source": [
        "import tensorflow as tf\n",
        "\n",
        "with tf.name_scope(\"My_Graph\"):\n",
        "  with tf.name_scope(\"Scope_1\"):\n",
        "    a = tf.add(1,2, name = \"addtion_1\")\n",
        "    b = tf.multiply(a,3, name = \"multiplying_1\")\n",
        "  with tf.name_scope(\"Scope_2\"):\n",
        "    c = tf.add(2,3, name = \"addtion_2\")\n",
        "    d = tf.multiply(c,5, name = \"multiplyin_2\")\n",
        "\n",
        "with tf.name_scope(\"Scope_3\"):\n",
        "  e = tf.multiply(5,6)\n",
        "  f = tf.div(c,6, name = \"division\")\n",
        "\n",
        "g = tf.add(b,d)\n",
        "h = tf.multiply(g,f)\n",
        "\n",
        "with tf.Session() as sess:\n",
        "  write = tf.summary.FileWriter(\"./logs\", sess.graph)\n",
        "  print(sess.run(h))\n",
        "  write.close()"
      ],
      "execution_count": 2,
      "outputs": [
        {
          "output_type": "stream",
          "text": [
            "WARNING:tensorflow:From <ipython-input-2-f8b172e60642>:13: div (from tensorflow.python.ops.math_ops) is deprecated and will be removed in a future version.\n",
            "Instructions for updating:\n",
            "Deprecated in favor of operator or tf.math.divide.\n",
            "0\n"
          ],
          "name": "stdout"
        }
      ]
    }
  ]
}