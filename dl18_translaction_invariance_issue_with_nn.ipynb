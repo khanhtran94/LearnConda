{
  "nbformat": 4,
  "nbformat_minor": 0,
  "metadata": {
    "colab": {
      "name": "dl18 translaction invariance issue with nn.ipynb",
      "version": "0.3.2",
      "provenance": [],
      "include_colab_link": true
    },
    "kernelspec": {
      "name": "python3",
      "display_name": "Python 3"
    },
    "accelerator": "GPU"
  },
  "cells": [
    {
      "cell_type": "markdown",
      "metadata": {
        "id": "view-in-github",
        "colab_type": "text"
      },
      "source": [
        "<a href=\"https://colab.research.google.com/github/khanhtran94/LearnConda/blob/master/dl18_translaction_invariance_issue_with_nn.ipynb\" target=\"_parent\"><img src=\"https://colab.research.google.com/assets/colab-badge.svg\" alt=\"Open In Colab\"/></a>"
      ]
    },
    {
      "metadata": {
        "id": "G6Kc8b5-OIS8",
        "colab_type": "code",
        "colab": {}
      },
      "cell_type": "code",
      "source": [
        "import cv2\n",
        "import matplotlib.pyplot as plt\n",
        "import numpy as np\n",
        "import tensorflow as tf\n",
        "from keras.utils import np_utils"
      ],
      "execution_count": 0,
      "outputs": []
    },
    {
      "metadata": {
        "id": "COyZ1RYFe7qJ",
        "colab_type": "code",
        "outputId": "93102c79-ec43-4518-ec6f-5762e8d4c2de",
        "colab": {
          "base_uri": "https://localhost:8080/",
          "height": 68
        }
      },
      "cell_type": "code",
      "source": [
        "# kaggle.com/c/digit-recognizer/data\n",
        "img_train = np.loadtxt(\"MNIST_digit_train.csv\", delimiter=',', skiprows=1)[:,:]\n",
        "print(\"training data: {0}\".format(img_train.shape))\n",
        "X_train = np.array(img_train[:,1:])\n",
        "train_label = np.array(img_train[:,0])\n",
        "\n",
        "print(X_train.shape)\n",
        "print(train_label.shape)"
      ],
      "execution_count": 6,
      "outputs": [
        {
          "output_type": "stream",
          "text": [
            "training data: (42000, 785)\n",
            "(42000, 784)\n",
            "(42000,)\n"
          ],
          "name": "stdout"
        }
      ]
    },
    {
      "metadata": {
        "id": "uCY46cI9hFxo",
        "colab_type": "code",
        "colab": {
          "base_uri": "https://localhost:8080/",
          "height": 381
        },
        "outputId": "c91068ef-2746-402b-a63f-4835498b7e0f"
      },
      "cell_type": "code",
      "source": [
        "# rescaling of the data\n",
        "# as data is already float 64 and np so no need to use type conversion astype\n",
        "X_train_1 = X_train/255\n",
        "Y_train = np_utils.to_categorical(train_label)\n",
        "print(Y_train.shape)\n",
        "print(X_train_1.shape)\n",
        "plt.imshow(X_train_1[3].reshape(28,28), cmap='gray')\n",
        "plt.show()\n"
      ],
      "execution_count": 7,
      "outputs": [
        {
          "output_type": "stream",
          "text": [
            "(42000, 10)\n",
            "(42000, 784)\n"
          ],
          "name": "stdout"
        },
        {
          "output_type": "display_data",
          "data": {
            "image/png": "[encoded data removed]",
            "text/plain": [
              "<Figure size 576x396 with 1 Axes>"
            ]
          },
          "metadata": {
            "tags": []
          }
        }
      ]
    },
    {
      "metadata": {
        "id": "RrXF2y4ei8E9",
        "colab_type": "code",
        "colab": {}
      },
      "cell_type": "code",
      "source": [
        "for i in range(10):\n",
        "  plt.imshow(X_train_1[i].reshape(28,28), cmap='gray')\n",
        "  plt.show()"
      ],
      "execution_count": 0,
      "outputs": []
    },
    {
      "metadata": {
        "id": "ZkMOo6O6d-RV",
        "colab_type": "code",
        "colab": {}
      },
      "cell_type": "code",
      "source": [
        ""
      ],
      "execution_count": 0,
      "outputs": []
    },
    {
      "metadata": {
        "id": "5YmSDyXec8c_",
        "colab_type": "code",
        "colab": {}
      },
      "cell_type": "code",
      "source": [
        "#define the placeholder\n",
        "X = tf.placeholder(tf.float32, [None, 784])\n",
        "Y = tf.placeholder(tf.float32, [None, 10]) # 0..9\n",
        "\n",
        "#create a neural network of single layer having 1000 nodes using tensoflow api\n",
        "n_hidden = 1000\n",
        "n_output = 10 # same as class\n",
        "learning_rate = 0.1\n",
        "\n",
        "# network model\n",
        "\n",
        "Z1 = tf.layers.dense(X, n_hidden, activation = tf.nn.relu)\n",
        "output_layer = tf.layers.dense(Z1, n_output, activation = tf.nn.softmax)\n",
        "\n",
        "#define the loss\n",
        "computed_loss = tf.reduce_mean(tf.nn.softmax_cross_entropy_with_logits_v2(logits = output_layer, labels = Y))\n",
        "\n",
        "#define the optimizer\n",
        "optimizer = tf.train.GradientDescentOptimizer(learning_rate=learning_rate).minimize(computed_loss)\n",
        "\n",
        "# define prediction\n",
        "prediction_out = tf.equal(tf.argmax(output_layer,1), tf.argmax(Y,1))\n",
        "\n",
        "#init\n",
        "init = tf.global_variables_initializer()\n"
      ],
      "execution_count": 0,
      "outputs": []
    },
    {
      "metadata": {
        "id": "vbDqEvBieSZ8",
        "colab_type": "code",
        "colab": {
          "base_uri": "https://localhost:8080/",
          "height": 364
        },
        "outputId": "efdcc8ca-4c46-45a0-8662-91ebef264d08"
      },
      "cell_type": "code",
      "source": [
        "X_train_2 = X_train_1[train_label == 4]\n",
        "print(X_train_2.shape)\n",
        "\n",
        "# test img\n",
        "X_train_reshape = X_train_2.reshape(-1,28,28)\n",
        "pic = np.zeros((28,28))\n",
        "\n",
        "pic2 = np.copy(pic)\n",
        "\n",
        "for i in range(X_train_reshape.shape[0]):\n",
        "  pic2 = X_train_reshape[i,:,:]\n",
        "  pic = pic + pic2\n",
        "test_image = (pic/ X_train_reshape.shape[0])\n",
        "plt.imshow(test_image, cmap = 'gray')\n",
        "plt.show()"
      ],
      "execution_count": 13,
      "outputs": [
        {
          "output_type": "stream",
          "text": [
            "(4072, 784)\n"
          ],
          "name": "stdout"
        },
        {
          "output_type": "display_data",
          "data": {
            "image/png": "[encoded data removed]",
            "text/plain": [
              "<Figure size 576x396 with 1 Axes>"
            ]
          },
          "metadata": {
            "tags": []
          }
        }
      ]
    },
    {
      "metadata": {
        "id": "PHZQrHJUe3U6",
        "colab_type": "code",
        "colab": {
          "base_uri": "https://localhost:8080/",
          "height": 119
        },
        "outputId": "1df34fd4-365d-40c2-c1cc-994caab44174"
      },
      "cell_type": "code",
      "source": [
        "# run ss\n",
        "sess = tf.Session()\n",
        "sess.run(init)\n",
        "\n",
        "for i in range(500):\n",
        "  gh,lossy = sess.run([optimizer, computed_loss], feed_dict = {X: X_train_1, Y: Y_train})\n",
        "  if i%100 == 0:\n",
        "    print(\"Loss at {2}/{1}  :  {0}\".format(lossy,500,i))\n",
        "    \n",
        "#reshape test img to feed into network\n",
        "\n",
        "test_image_reshape = test_image.reshape(1,784)\n",
        "Z = sess.run(output_layer, feed_dict = {X:test_image_reshape})\n",
        "\n",
        "y_pred = np.argmax(Z, axis = 1)\n",
        "print(\"Prediction for test image is {0}\".format(y_pred))"
      ],
      "execution_count": 14,
      "outputs": [
        {
          "output_type": "stream",
          "text": [
            "Loss at 0/500  :  2.3026747703552246\n",
            "Loss at 100/500  :  1.9604731798171997\n",
            "Loss at 200/500  :  1.800895094871521\n",
            "Loss at 300/500  :  1.75648033618927\n",
            "Loss at 400/500  :  1.6723792552947998\n",
            "Prediction for test image is [4]\n"
          ],
          "name": "stdout"
        }
      ]
    },
    {
      "metadata": {
        "id": "9MSzq5lCftvq",
        "colab_type": "code",
        "colab": {
          "base_uri": "https://localhost:8080/",
          "height": 364
        },
        "outputId": "a11d88e2-7124-48b0-f5c8-3c62a288115d"
      },
      "cell_type": "code",
      "source": [
        "# shift the image to left by 4 units\n",
        "test_image_2 = test_image\n",
        "\n",
        "for i in range(test_image.shape[0]):\n",
        "  if i<20:\n",
        "    test_image_2[:,i] = test_image[:,i+4]\n",
        "    test_image_2 = np.clip(test_image_2,0,1.0)\n",
        "plt.imshow(test_image_2, cmap='gray')\n",
        "plt.show()\n",
        "\n",
        "#test the translated image\n",
        "\n",
        "#reshape test image to feed into network\n",
        "\n",
        "test_image_reshpae = test_image_2.reshape(1,784)\n",
        "\n",
        "Z = sess.run(output_layer, feed_dict = {X: test_image_reshape})\n",
        "y_pred = np.argmax(Z, axis = 1)\n",
        "\n",
        "print(\"prediction for test image is {0}\".format(y_pred))"
      ],
      "execution_count": 22,
      "outputs": [
        {
          "output_type": "display_data",
          "data": {
            "image/png": "[encoded data removed]",
            "text/plain": [
              "<Figure size 576x396 with 1 Axes>"
            ]
          },
          "metadata": {
            "tags": []
          }
        },
        {
          "output_type": "stream",
          "text": [
            "prediction for test image is [4]\n"
          ],
          "name": "stdout"
        }
      ]
    }
  ]
}