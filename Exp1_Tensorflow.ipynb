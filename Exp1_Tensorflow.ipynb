{
  "nbformat": 4,
  "nbformat_minor": 0,
  "metadata": {
    "colab": {
      "name": "Exp1_Tensorflow.ipynb",
      "version": "0.3.2",
      "provenance": [],
      "include_colab_link": true
    },
    "kernelspec": {
      "name": "python3",
      "display_name": "Python 3"
    },
    "accelerator": "GPU"
  },
  "cells": [
    {
      "cell_type": "markdown",
      "metadata": {
        "id": "view-in-github",
        "colab_type": "text"
      },
      "source": [
        "<a href=\"https://colab.research.google.com/github/khanhtran94/LearnConda/blob/master/Exp1_Tensorflow.ipynb\" target=\"_parent\"><img src=\"https://colab.research.google.com/assets/colab-badge.svg\" alt=\"Open In Colab\"/></a>"
      ]
    },
    {
      "metadata": {
        "id": "8-qimRBJ6CPU",
        "colab_type": "code",
        "colab": {}
      },
      "cell_type": "code",
      "source": [
        "import numpy as np\n",
        "import tensorflow as tf"
      ],
      "execution_count": 0,
      "outputs": []
    },
    {
      "metadata": {
        "id": "XolS7zLp81O0",
        "colab_type": "code",
        "colab": {
          "base_uri": "https://localhost:8080/",
          "height": 51
        },
        "outputId": "f8a49df5-c677-49b9-dc0a-4eee8c0f56e0"
      },
      "cell_type": "code",
      "source": [
        "# explain the concept of constant using tensorflow code\n",
        "a = tf.constant(3)\n",
        "b = tf.constant(5)\n",
        "\n",
        "c = a + b\n",
        "\n",
        "tf.InteractiveSession()\n",
        "print(c.eval())\n",
        "\n",
        "# invoke the session so that computational graph will be executed\n",
        "with tf.Session() as sess:\n",
        "  var1 = sess.run(c)\n",
        "  print(var1)"
      ],
      "execution_count": 6,
      "outputs": [
        {
          "output_type": "stream",
          "text": [
            "8\n",
            "8\n"
          ],
          "name": "stdout"
        }
      ]
    },
    {
      "metadata": {
        "id": "KDAw7T2t9xyh",
        "colab_type": "code",
        "colab": {}
      },
      "cell_type": "code",
      "source": [
        "# Explain the concept of variables used in tensorflow codes\n",
        "\n",
        "a = tf.Variable(0, name = 'input')\n",
        "b = tf.constant(1)\n",
        "\n",
        "mid_value = tf.add(a,b)\n",
        "update_value = tf.assign(a, mid_value)\n",
        "\n",
        "tg = tf.initialize_all_variables()\n",
        "\n",
        "with tf.Session() as sess:\n",
        "  sess.run(tg)\n",
        "  print(sess.run(a))\n",
        "  print(\"!\")\n",
        "  for i in range(3):\n",
        "    sess.run(update_value)\n",
        "    print(sess.run(a))"
      ],
      "execution_count": 0,
      "outputs": []
    },
    {
      "metadata": {
        "id": "oY3AVmVp-_zN",
        "colab_type": "code",
        "colab": {
          "base_uri": "https://localhost:8080/",
          "height": 34
        },
        "outputId": "58c249fc-5e2e-439f-cd88-34d95aba903d"
      },
      "cell_type": "code",
      "source": [
        "# next role placeholder in tensorflow\n",
        "\n",
        "x = tf.placeholder(\"float32\", None)\n",
        "y = x**2\n",
        "\n",
        "with tf.Session() as sess:\n",
        "  result = sess.run(y, feed_dict = {x : [1,2,3,4,5]})\n",
        "  print(result)"
      ],
      "execution_count": 13,
      "outputs": [
        {
          "output_type": "stream",
          "text": [
            "[ 1.  4.  9. 16. 25.]\n"
          ],
          "name": "stdout"
        }
      ]
    },
    {
      "metadata": {
        "id": "e6q3Kuav_cRq",
        "colab_type": "code",
        "colab": {
          "base_uri": "https://localhost:8080/",
          "height": 51
        },
        "outputId": "d78dbda5-3a8d-44b1-d4c3-31504a37b7bf"
      },
      "cell_type": "code",
      "source": [
        "# next role placeholder in tensorflow\n",
        "\n",
        "x = tf.placeholder(\"float64\", [None, 3])\n",
        "y = x**2\n",
        "\n",
        "with tf.Session() as sess:\n",
        "  result = sess.run(y, feed_dict = {x : [[1,2,3], [4,5,6]]})\n",
        "  print(result)"
      ],
      "execution_count": 17,
      "outputs": [
        {
          "output_type": "stream",
          "text": [
            "[[ 1.  4.  9.]\n",
            " [16. 25. 36.]]\n"
          ],
          "name": "stdout"
        }
      ]
    }
  ]
}