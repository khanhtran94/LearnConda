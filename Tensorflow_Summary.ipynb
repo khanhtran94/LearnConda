{
  "nbformat": 4,
  "nbformat_minor": 0,
  "metadata": {
    "colab": {
      "name": "Tensorflow_Summary.ipynb",
      "version": "0.3.2",
      "provenance": [],
      "include_colab_link": true
    },
    "kernelspec": {
      "name": "python3",
      "display_name": "Python 3"
    },
    "accelerator": "GPU"
  },
  "cells": [
    {
      "cell_type": "markdown",
      "metadata": {
        "id": "view-in-github",
        "colab_type": "text"
      },
      "source": [
        "<a href=\"https://colab.research.google.com/github/khanhtran94/LearnConda/blob/master/Tensorflow_Summary.ipynb\" target=\"_parent\"><img src=\"https://colab.research.google.com/assets/colab-badge.svg\" alt=\"Open In Colab\"/></a>"
      ]
    },
    {
      "metadata": {
        "id": "BlToKzmFu_2q",
        "colab_type": "code",
        "colab": {}
      },
      "cell_type": "code",
      "source": [
        "# randomly pick 100 values from a normal distribution N(0,1) and plot them one after the other\n",
        "\n",
        "import tensorflow as tf\n",
        "\n",
        "tf.reset_default_graph()\n",
        "\n",
        "s_scalar = tf.get_variable(name = 's_scalar', shape=[], initializer = tf.truncated_normal_initializer(mean = 0, stddev = 1))\n",
        "\n",
        "first_summary = tf.summary.scalar(name = \"First_summary\", tensor = s_scalar)\n",
        "\n",
        "init = tf.global_variables_initializer()\n",
        "\n",
        "with tf.Session() as sess:\n",
        "  writer = tf.summary.FileWriter(\"./logs\", sess.graph)\n",
        "  \n",
        "  for i in range(100):\n",
        "    sess.run(init)\n",
        "    summary = sess.run(first_summary)\n",
        "    writer.add_summary(summary,i)"
      ],
      "execution_count": 0,
      "outputs": []
    },
    {
      "metadata": {
        "id": "DIBhDm2eyA0p",
        "colab_type": "code",
        "colab": {}
      },
      "cell_type": "code",
      "source": [
        "# randomly pick 100 values from a normal distribution N(0,1) and plot them one after the other\n",
        "# tf.summary.history\n",
        "\n",
        "import tensorflow as tf\n",
        "\n",
        "tf.reset_default_graph()\n",
        "\n",
        "s_scalar = tf.get_variable(name = 's_scalar', shape=[], initializer = tf.truncated_normal_initializer(mean = 0, stddev = 1))\n",
        "y_matrix = tf.get_variable(name = 'y_matrix', shape=[40,50], initializer = tf.truncated_normal_initializer(mean = 0, stddev = 1))\n",
        "\n",
        "# A scalar summary for scalar tensor\n",
        "first_summary = tf.summary.scalar(name = \"First_summary\", tensor = s_scalar)\n",
        "\n",
        "# a histogram summary fir non-scalar tensor 2d or 3d matrix\n",
        "histogram_summary = tf.summary.histogram(name = 'histogram_summary', values = y_matrix)\n",
        "init = tf.global_variables_initializer()\n",
        "\n",
        "with tf.Session() as sess:\n",
        "  writer = tf.summary.FileWriter(\"./logs\", sess.graph)\n",
        "  \n",
        "  for i in range(100):\n",
        "    sess.run(init)\n",
        "    summary1, summary2 = sess.run([first_summary, histogram_summary])\n",
        "    writer.add_summary(summary1,i)\n",
        "    writer.add_summary(summary2,i)"
      ],
      "execution_count": 0,
      "outputs": []
    }
  ]
}