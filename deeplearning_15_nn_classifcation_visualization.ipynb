{
  "nbformat": 4,
  "nbformat_minor": 0,
  "metadata": {
    "colab": {
      "name": "deeplearning 15 nn classifcation visualization.ipynb",
      "version": "0.3.2",
      "provenance": [],
      "include_colab_link": true
    },
    "kernelspec": {
      "name": "python3",
      "display_name": "Python 3"
    },
    "accelerator": "GPU"
  },
  "cells": [
    {
      "cell_type": "markdown",
      "metadata": {
        "id": "view-in-github",
        "colab_type": "text"
      },
      "source": [
        "<a href=\"https://colab.research.google.com/github/khanhtran94/LearnConda/blob/master/deeplearning_15_nn_classifcation_visualization.ipynb\" target=\"_parent\"><img src=\"https://colab.research.google.com/assets/colab-badge.svg\" alt=\"Open In Colab\"/></a>"
      ]
    },
    {
      "metadata": {
        "id": "IdPu9JimxGjQ",
        "colab_type": "code",
        "colab": {}
      },
      "cell_type": "code",
      "source": [
        "#import the dependencies\n",
        "import cv2\n",
        "import matplotlib.pyplot as plt\n",
        "import numpy as np\n",
        "import tensorflow as tf\n"
      ],
      "execution_count": 0,
      "outputs": []
    },
    {
      "metadata": {
        "id": "_-4WZuYu4dS0",
        "colab_type": "code",
        "colab": {}
      },
      "cell_type": "code",
      "source": [
        "tf.reset_default_graph()"
      ],
      "execution_count": 0,
      "outputs": []
    },
    {
      "metadata": {
        "id": "5g-QkDXKxmkm",
        "colab_type": "code",
        "colab": {}
      },
      "cell_type": "code",
      "source": [
        "from tensorflow.examples.tutorials.mnist import input_data\n",
        "mnist_data = input_data.read_data_sets(\"./data\", one_hot = True)"
      ],
      "execution_count": 0,
      "outputs": []
    },
    {
      "metadata": {
        "id": "rWsmwFsYxvB0",
        "colab_type": "code",
        "outputId": "a8371ad3-9337-45a1-f23b-80429c2ed353",
        "colab": {
          "base_uri": "https://localhost:8080/",
          "height": 34
        }
      },
      "cell_type": "code",
      "source": [
        "num_training = mnist_data.train.num_examples\n",
        "num_testing = mnist_data.test.num_examples\n",
        "num_validation = mnist_data.validation.num_examples\n",
        "print(\"MNIST datasize: Traninning samples: {0}, Testing samples: {1}, Validation sample: {2}\".format(num_training,num_testing,num_validation))"
      ],
      "execution_count": 4,
      "outputs": [
        {
          "output_type": "stream",
          "text": [
            "MNIST datasize: Traninning samples: 55000, Testing samples: 10000, Validation sample: 5000\n"
          ],
          "name": "stdout"
        }
      ]
    },
    {
      "metadata": {
        "id": "_Ys2ufDux0SG",
        "colab_type": "code",
        "colab": {}
      },
      "cell_type": "code",
      "source": [
        "# network parameter of neural network\n",
        "n_input = 784 # input image of size 28 x 28\n",
        "n_hidden_1 = 512 # first hidden layer\n",
        "n_hidden_2 = 256 # second hidden layer\n",
        "n_hidden_3 = 128 # third hidden layer\n",
        "n_output = 10 # output layer having ( 0 - 9 ) digits"
      ],
      "execution_count": 0,
      "outputs": []
    },
    {
      "metadata": {
        "id": "49jZF04zx4H9",
        "colab_type": "code",
        "colab": {}
      },
      "cell_type": "code",
      "source": [
        "# hyperparameterc for nn\n",
        "learning_rate = 1e-4\n",
        "epochs = 3000\n",
        "batch_size = 128\n",
        "keep_prob = tf.placeholder(tf.float32)"
      ],
      "execution_count": 0,
      "outputs": []
    },
    {
      "metadata": {
        "id": "DOmfR6uox8rx",
        "colab_type": "code",
        "colab": {}
      },
      "cell_type": "code",
      "source": [
        "X = tf.placeholder(tf.float32, [None, n_input])\n",
        "Y = tf.placeholder(tf.float32, [None, n_output])"
      ],
      "execution_count": 0,
      "outputs": []
    },
    {
      "metadata": {
        "id": "Wj7Mz2jXyGnW",
        "colab_type": "code",
        "outputId": "110e7c5d-9f26-493e-a935-2d3488ae8237",
        "colab": {
          "base_uri": "https://localhost:8080/",
          "height": 88
        }
      },
      "cell_type": "code",
      "source": [
        "with tf.name_scope(\"Network_parameters\") as scope:\n",
        "  nn_weight = {\"W1\": tf.Variable(tf.truncated_normal([n_input, n_hidden_1], stddev = 0.1)),\n",
        "             \"W2\": tf.Variable(tf.truncated_normal([n_hidden_1, n_hidden_2], stddev = 0.1)),\n",
        "             \"W3\": tf.Variable(tf.truncated_normal([n_hidden_2, n_hidden_3], stddev = 0.1)),\n",
        "             \"Wout\": tf.Variable(tf.truncated_normal([n_hidden_3, n_output], stddev = 0.1))\n",
        "            }\n",
        "  nn_bias = {\"B1\": tf.Variable(tf.truncated_normal([n_hidden_1])),\n",
        "           \"B2\": tf.Variable(tf.truncated_normal([n_hidden_2])),\n",
        "           \"B3\": tf.Variable(tf.truncated_normal([n_hidden_3])),\n",
        "           \"B4\": tf.Variable(tf.truncated_normal([n_output])),        \n",
        "          }\n"
      ],
      "execution_count": 8,
      "outputs": [
        {
          "output_type": "stream",
          "text": [
            "WARNING:tensorflow:From /usr/local/lib/python3.6/dist-packages/tensorflow/python/framework/op_def_library.py:263: colocate_with (from tensorflow.python.framework.ops) is deprecated and will be removed in a future version.\n",
            "Instructions for updating:\n",
            "Colocations handled automatically by placer.\n"
          ],
          "name": "stdout"
        }
      ]
    },
    {
      "metadata": {
        "id": "PnqktmR5yZW1",
        "colab_type": "code",
        "colab": {
          "base_uri": "https://localhost:8080/",
          "height": 88
        },
        "outputId": "a16615cb-3392-4f38-beaa-60b1d316242e"
      },
      "cell_type": "code",
      "source": [
        "with tf.name_scope(\"Network_Model\") as scope:\n",
        "  nn_layer_1 = tf.add(tf.matmul(X, nn_weight[\"W1\"]), nn_bias[\"B1\"])\n",
        "  nn_layer_2 = tf.add(tf.matmul(nn_layer_1, nn_weight[\"W2\"]), nn_bias[\"B2\"])\n",
        "  nn_layer_3 = tf.add(tf.matmul(nn_layer_2, nn_weight[\"W3\"]), nn_bias[\"B3\"])\n",
        "\n",
        "  layer_drop = tf.nn.dropout(nn_layer_3, keep_prob)\n",
        "  output_layer = tf.add(tf.matmul(layer_drop, nn_weight[\"Wout\"]), nn_bias[\"B4\"])"
      ],
      "execution_count": 9,
      "outputs": [
        {
          "output_type": "stream",
          "text": [
            "WARNING:tensorflow:From <ipython-input-9-a22917bef728>:6: calling dropout (from tensorflow.python.ops.nn_ops) with keep_prob is deprecated and will be removed in a future version.\n",
            "Instructions for updating:\n",
            "Please use `rate` instead of `keep_prob`. Rate should be set to `rate = 1 - keep_prob`.\n"
          ],
          "name": "stdout"
        }
      ]
    },
    {
      "metadata": {
        "id": "Td-Sl8avyyxu",
        "colab_type": "code",
        "colab": {}
      },
      "cell_type": "code",
      "source": [
        "# summary report for weight of neural network\n",
        "W1_histogram = tf.summary.histogram(\"W1\", nn_weight[\"W1\"])\n",
        "W2_histogram = tf.summary.histogram(\"W2\", nn_weight[\"W2\"])\n",
        "W3_histogram = tf.summary.histogram(\"W3\", nn_weight[\"W3\"])\n",
        "W4_histogram = tf.summary.histogram(\"W4\", nn_weight[\"Wout\"])\n",
        "\n",
        "# summary report for bias of neural network\n",
        "\n",
        "B1_histogram = tf.summary.histogram(\"B1\", nn_bias[\"B1\"])\n",
        "B2_histogram = tf.summary.histogram(\"B2\", nn_bias[\"B2\"])\n",
        "B3_histogram = tf.summary.histogram(\"B3\", nn_bias[\"B3\"])\n",
        "B4_histogram = tf.summary.histogram(\"B4\", nn_bias[\"B4\"])\n"
      ],
      "execution_count": 0,
      "outputs": []
    },
    {
      "metadata": {
        "id": "-aG9WFqUzYGI",
        "colab_type": "code",
        "colab": {}
      },
      "cell_type": "code",
      "source": [
        "#define the loss\n",
        "with tf.name_scope(\"Cost_function\") as scope:\n",
        "  computer_loss = tf.reduce_mean(tf.nn.softmax_cross_entropy_with_logits_v2(logits = output_layer, labels = Y))\n",
        "\n",
        "#summary for the cost\n",
        "network_cost = tf.summary.scalar(\"Cost\", computer_loss)\n",
        "\n",
        "with tf.name_scope(\"Network_Optimizer\") as scope:\n",
        "  optimizer = tf.train.GradientDescentOptimizer(learning_rate = learning_rate).minimize(computer_loss)\n",
        "\n",
        "with tf.name_scope(\"Network_prediction\") as scope:\n",
        "  prediction_out = tf.equal(tf.argmax(output_layer,1), tf.argmax(Y,1))\n",
        "with tf.name_scope(\"Network_Accuracy\") as scope:\n",
        "  nn_accuracy = tf.reduce_mean(tf.cast(prediction_out, tf.float32))\n",
        "\n",
        "init = tf.global_variables_initializer()\n",
        "\n",
        "merged_summary = tf.summary.merge_all()\n",
        "\n",
        "saver = tf.train.Saver()"
      ],
      "execution_count": 0,
      "outputs": []
    },
    {
      "metadata": {
        "id": "7I6d44s_0Y0G",
        "colab_type": "code",
        "colab": {
          "base_uri": "https://localhost:8080/",
          "height": 561
        },
        "outputId": "83e52d46-c266-40bb-eaff-beff35537c4e"
      },
      "cell_type": "code",
      "source": [
        "with tf.Session() as sess:\n",
        "  sess.run(init)\n",
        "  writer = tf.summary.FileWriter(\"./log\", sess.graph)\n",
        "  \n",
        "  for i in range(epochs):\n",
        "    mini_batch_x, mini_batch_y = mnist_data.train.next_batch(batch_size)\n",
        "    #print(mini_batch_x[0:1,:].shape)\n",
        "    mini_batch_val_x, mini_batch_val_y = mnist_data.validation.next_batch(batch_size)\n",
        "    \n",
        "    sess.run(optimizer, feed_dict = {X: mini_batch_x, Y:mini_batch_y, keep_prob:1.0})\n",
        "    \n",
        "    #running the summary\n",
        "    summary_epoch = sess.run(merged_summary, feed_dict ={X: mini_batch_x, Y: mini_batch_y, keep_prob:1.0})\n",
        "    writer.add_summary(summary_epoch,i)\n",
        "    \n",
        "    if i%100 == 0:\n",
        "      mini_batch_loss, mini_batch_accuracy = sess.run([computer_loss, nn_accuracy], feed_dict = {X: mini_batch_x, Y: mini_batch_y, keep_prob:0.85})\n",
        "      mini_batch_val_loss, mini_batch_val_accuracy = sess.run([computer_loss, nn_accuracy], feed_dict = {X: mini_batch_val_x, Y: mini_batch_val_y, keep_prob:0.85})\n",
        "\n",
        "      print(\"Iterations: {0}, Train_loss = {1}, Train_accuracy: {2}, val_accuracy {4}\".format(i,mini_batch_loss,mini_batch_accuracy,mini_batch_val_loss,mini_batch_val_accuracy))\n",
        "  print(\"Optimization finished\")\n",
        "  test_accuracy = sess.run(nn_accuracy, feed_dict = {X: mnist_data.test.images, Y: mnist_data.test.labels, keep_prob:0.85})\n",
        "  print(\"Testing accuracy is {0}\".format(test_accuracy))\n",
        "    \n",
        "  save_path = saver.save(sess, \"./model/my_model.ckpt\")"
      ],
      "execution_count": 12,
      "outputs": [
        {
          "output_type": "stream",
          "text": [
            "Iterations: 0, Train_loss = 5.658945083618164, Train_accuracy: 0.15625, val_accuracy 0.09375\n",
            "Iterations: 100, Train_loss = 3.940028667449951, Train_accuracy: 0.140625, val_accuracy 0.1171875\n",
            "Iterations: 200, Train_loss = 3.2335364818573, Train_accuracy: 0.1640625, val_accuracy 0.15625\n",
            "Iterations: 300, Train_loss = 3.05216121673584, Train_accuracy: 0.21875, val_accuracy 0.2265625\n",
            "Iterations: 400, Train_loss = 2.772552967071533, Train_accuracy: 0.265625, val_accuracy 0.2578125\n",
            "Iterations: 500, Train_loss = 2.919818878173828, Train_accuracy: 0.1953125, val_accuracy 0.3203125\n",
            "Iterations: 600, Train_loss = 2.42767333984375, Train_accuracy: 0.3046875, val_accuracy 0.296875\n",
            "Iterations: 700, Train_loss = 2.3484888076782227, Train_accuracy: 0.3125, val_accuracy 0.328125\n",
            "Iterations: 800, Train_loss = 2.3190507888793945, Train_accuracy: 0.390625, val_accuracy 0.3984375\n",
            "Iterations: 900, Train_loss = 2.071589946746826, Train_accuracy: 0.4375, val_accuracy 0.3515625\n",
            "Iterations: 1000, Train_loss = 2.05190372467041, Train_accuracy: 0.3515625, val_accuracy 0.40625\n",
            "Iterations: 1100, Train_loss = 2.1909918785095215, Train_accuracy: 0.3359375, val_accuracy 0.3828125\n",
            "Iterations: 1200, Train_loss = 1.9760607481002808, Train_accuracy: 0.4375, val_accuracy 0.3515625\n",
            "Iterations: 1300, Train_loss = 1.684293508529663, Train_accuracy: 0.4453125, val_accuracy 0.4296875\n",
            "Iterations: 1400, Train_loss = 1.8998264074325562, Train_accuracy: 0.4375, val_accuracy 0.3984375\n",
            "Iterations: 1500, Train_loss = 1.961169958114624, Train_accuracy: 0.3828125, val_accuracy 0.3984375\n",
            "Iterations: 1600, Train_loss = 2.1263527870178223, Train_accuracy: 0.390625, val_accuracy 0.4375\n",
            "Iterations: 1700, Train_loss = 1.5569348335266113, Train_accuracy: 0.4765625, val_accuracy 0.53125\n",
            "Iterations: 1800, Train_loss = 1.6755635738372803, Train_accuracy: 0.4453125, val_accuracy 0.484375\n",
            "Iterations: 1900, Train_loss = 1.5213346481323242, Train_accuracy: 0.5234375, val_accuracy 0.4765625\n",
            "Iterations: 2000, Train_loss = 1.6407661437988281, Train_accuracy: 0.484375, val_accuracy 0.5546875\n",
            "Iterations: 2100, Train_loss = 1.4533495903015137, Train_accuracy: 0.5234375, val_accuracy 0.484375\n",
            "Iterations: 2200, Train_loss = 1.6772468090057373, Train_accuracy: 0.46875, val_accuracy 0.515625\n",
            "Iterations: 2300, Train_loss = 1.3886311054229736, Train_accuracy: 0.546875, val_accuracy 0.4921875\n",
            "Iterations: 2400, Train_loss = 1.4978413581848145, Train_accuracy: 0.4765625, val_accuracy 0.5390625\n",
            "Iterations: 2500, Train_loss = 1.6332097053527832, Train_accuracy: 0.5, val_accuracy 0.4921875\n",
            "Iterations: 2600, Train_loss = 1.3584202527999878, Train_accuracy: 0.5546875, val_accuracy 0.53125\n",
            "Iterations: 2700, Train_loss = 1.4922337532043457, Train_accuracy: 0.5859375, val_accuracy 0.5390625\n",
            "Iterations: 2800, Train_loss = 1.503004550933838, Train_accuracy: 0.546875, val_accuracy 0.5546875\n",
            "Iterations: 2900, Train_loss = 1.2860602140426636, Train_accuracy: 0.5546875, val_accuracy 0.5234375\n",
            "Optimization finished\n",
            "Testing accuracy is 0.5756999850273132\n"
          ],
          "name": "stdout"
        }
      ]
    },
    {
      "metadata": {
        "id": "FVJhQJmp3R4p",
        "colab_type": "code",
        "colab": {
          "base_uri": "https://localhost:8080/",
          "height": 204
        },
        "outputId": "e7b7f321-993f-4465-85ed-4b2eef5d7ada"
      },
      "cell_type": "code",
      "source": [
        "!wget https://bin.equinox.io/c/4VmDzA7iaHb/ngrok-stable-linux-amd64.zip"
      ],
      "execution_count": 13,
      "outputs": [
        {
          "output_type": "stream",
          "text": [
            "--2019-03-01 15:33:20--  https://bin.equinox.io/c/4VmDzA7iaHb/ngrok-stable-linux-amd64.zip\n",
            "Resolving bin.equinox.io (bin.equinox.io)... 52.207.111.186, 52.203.66.95, 52.3.53.115, ...\n",
            "Connecting to bin.equinox.io (bin.equinox.io)|52.207.111.186|:443... connected.\n",
            "HTTP request sent, awaiting response... 200 OK\n",
            "Length: 5363700 (5.1M) [application/octet-stream]\n",
            "Saving to: ‘ngrok-stable-linux-amd64.zip.1’\n",
            "\n",
            "ngrok-stable-linux- 100%[===================>]   5.11M  7.73MB/s    in 0.7s    \n",
            "\n",
            "2019-03-01 15:33:21 (7.73 MB/s) - ‘ngrok-stable-linux-amd64.zip.1’ saved [5363700/5363700]\n",
            "\n"
          ],
          "name": "stdout"
        }
      ]
    },
    {
      "metadata": {
        "id": "lXpnmxuG3Xq2",
        "colab_type": "code",
        "colab": {
          "base_uri": "https://localhost:8080/",
          "height": 68
        },
        "outputId": "ca1a735f-ba44-4393-d289-f8f9b71527ae"
      },
      "cell_type": "code",
      "source": [
        "!unzip ngrok-stable-linux-amd64.zip"
      ],
      "execution_count": 14,
      "outputs": [
        {
          "output_type": "stream",
          "text": [
            "Archive:  ngrok-stable-linux-amd64.zip\n",
            "replace ngrok? [y]es, [n]o, [A]ll, [N]one, [r]ename: y\n",
            "  inflating: ngrok                   \n"
          ],
          "name": "stdout"
        }
      ]
    },
    {
      "metadata": {
        "id": "7c-239nX3aNj",
        "colab_type": "code",
        "colab": {}
      },
      "cell_type": "code",
      "source": [
        "LOG_DIR = './log'\n",
        "get_ipython().system_raw(\n",
        "    'tensorboard --logdir {} --host 0.0.0.0 --port 6006 &'\n",
        "    .format(LOG_DIR)\n",
        ")\n",
        "\n",
        "get_ipython().system_raw('./ngrok http 6006 &')"
      ],
      "execution_count": 0,
      "outputs": []
    },
    {
      "metadata": {
        "id": "gKYztEfv3d6-",
        "colab_type": "code",
        "colab": {
          "base_uri": "https://localhost:8080/",
          "height": 34
        },
        "outputId": "fe255567-9040-4c1f-bf07-e39625f7ceeb"
      },
      "cell_type": "code",
      "source": [
        "! curl -s http://localhost:4040/api/tunnels | python3 -c \\\n",
        "    \"import sys, json; print(json.load(sys.stdin)['tunnels'][0]['public_url'])\""
      ],
      "execution_count": 16,
      "outputs": [
        {
          "output_type": "stream",
          "text": [
            "http://551f3e4b.ngrok.io\n"
          ],
          "name": "stdout"
        }
      ]
    },
    {
      "metadata": {
        "id": "g2Vw0WMG34td",
        "colab_type": "code",
        "colab": {}
      },
      "cell_type": "code",
      "source": [
        "tf.reset_default_graph()"
      ],
      "execution_count": 0,
      "outputs": []
    }
  ]
}